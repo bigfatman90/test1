{
 "cells": [
  {
   "cell_type": "code",
   "execution_count": 1,
   "id": "ef6a1ac8-56be-4dba-b8fe-6c5a22211859",
   "metadata": {},
   "outputs": [],
   "source": [
    "import pandas as pd\n",
    "from google.cloud import bigquery\n",
    "from google.cloud import storage\n",
    "from datetime import date"
   ]
  },
  {
   "cell_type": "code",
   "execution_count": 2,
   "id": "3444b35c-618f-4f2c-94d3-7debae54d08f",
   "metadata": {},
   "outputs": [],
   "source": [
    "client_bq = bigquery.Client()\n",
    "client_storage = storage.Client()"
   ]
  },
  {
   "cell_type": "code",
   "execution_count": 8,
   "id": "d848159a-721f-4422-a9e1-cd39ed82eeba",
   "metadata": {},
   "outputs": [],
   "source": [
    "q1=\"\"\"\n",
    "\n",
    "with pa as ( select policy_no, policy_holder_indiv_key, policy_rank, policy_plan_family_cd, conversion_dt, current_payment_to_dt, last_payment_method_id,policy_status_name, eti_rpu_ind, \n",
    "case when CURRENT_DATE() BETWEEN DATE_ADD(t1.current_payment_to_dt, INTERVAL 67+1 day) AND DATE_ADD(t1.current_payment_to_dt, INTERVAL 67+1+90 day) AND t1.eti_rpu_ind NOT IN ('RPU','ETI') then coalesce (last_scfl_pymnt_method_nm, last_payment_method_nm) else last_payment_method_nm end as new_payment_mentod_nm,\n",
    "case when count(distinct policy_no) over(partition by policy_holder_indiv_key)=1 then 1\n",
    "else first_policy_flag end new_first_policy_flag\n",
    "from `merkle-gldp-client.analytics.policy_appl` t1\n",
    ")\n",
    "  select * from (\n",
    "SELECT\n",
    "  CASE\n",
    "    WHEN UPPER(pa.policy_plan_family_cd) LIKE '%YOUNG%' THEN 'YA'\n",
    "    WHEN UPPER(pa.policy_plan_family_cd) LIKE '%GROW UP%' OR UPPER(pa.policy_plan_family_cd) LIKE '%CHILDREN%' OR UPPER(pa.policy_plan_family_cd) LIKE '%STUDENT%' THEN 'GU'\n",
    "    WHEN UPPER(pa.policy_plan_family_cd) LIKE '%ACCIDENT PROTECTION%' THEN 'AP' \n",
    "    WHEN UPPER(pa.policy_plan_family_cd) LIKE '%WHOLE%' OR UPPER(pa.policy_plan_family_cd) LIKE '%LIFE PAID%' OR UPPER(pa.policy_plan_family_cd) LIKE '%MONEYBACK%' OR UPPER(pa.policy_plan_family_cd) LIKE '%SENIOR LIFE%' OR UPPER(pa.policy_plan_family_cd) LIKE '%SL%' THEN 'WL'\n",
    "    WHEN UPPER(pa.policy_plan_family_cd) LIKE '%COLLEGE%' THEN 'GLCP'\n",
    "    WHEN UPPER(pa.policy_plan_family_cd) LIKE '%TERM%' OR UPPER(pa.policy_plan_family_cd) LIKE '%SPOUSE RIDER%' OR UPPER(pa.policy_plan_family_cd) LIKE '%LIFESTYLE%'THEN 'TL'\n",
    "  ELSE 'Misc' END  AS product,\n",
    "  CASE\n",
    "    WHEN pa.conversion_dt BETWEEN DATE_SUB(CURRENT_DATE(), INTERVAL 6 month)  AND CURRENT_DATE() THEN '0-6 months'\n",
    "    WHEN pa.conversion_dt BETWEEN DATE_SUB(CURRENT_DATE(), INTERVAL 12 month) AND DATE_SUB(CURRENT_DATE(), INTERVAL 6 month) THEN '6-12 months'\n",
    "    WHEN pa.conversion_dt BETWEEN DATE_SUB(CURRENT_DATE(), INTERVAL 3 year)   AND DATE_SUB(CURRENT_DATE(), INTERVAL 12 month) THEN '1-3 years'\n",
    "    WHEN pa.conversion_dt BETWEEN DATE_SUB(CURRENT_DATE(), INTERVAL 5 year)   AND DATE_SUB(CURRENT_DATE(), INTERVAL 3 year) THEN '3-5 years'\n",
    "    WHEN pa.conversion_dt < DATE_SUB(CURRENT_DATE(), INTERVAL 5 year) THEN '5+ years'\n",
    "    WHEN CURRENT_DATE() BETWEEN DATE_ADD(pa.current_payment_to_dt, INTERVAL 67+1 day) AND DATE_ADD(pa.current_payment_to_dt, INTERVAL 67+1+90 day) \n",
    "  AND pa.eti_rpu_ind NOT IN ('RPU','ETI') THEN 'Lapsed within 90 days'\n",
    "  ELSE \"other\" END  AS time_group,\n",
    "  CASE \n",
    "    WHEN new_payment_mentod_nm='Automated Clearing House' THEN 'Auto_billing' ELSE 'Not Auto-billing' END AS billing_method_indicator,\n",
    "    case when  substring(inout_cd_id2_cd,2,1)='G' and current_Date() between current_date() and date_add(pa.current_payment_to_dt, interval 90 day) then 'Requested to cancel within 90 days' else 'Not canceled' end Requested_to_cancel,\n",
    "     party.party_first_name, party.party_last_name,party.email_txt,party.cell_phone, pa.policy_no, pa.policy_status_name, pa.conversion_dt as start_dt, case WHEN CURRENT_DATE() BETWEEN DATE_ADD(pa.current_payment_to_dt, INTERVAL 67+1 day) AND DATE_ADD(pa.current_payment_to_dt, INTERVAL 67+1+90 day) \n",
    " AND pa.eti_rpu_ind NOT IN ('RPU','ETI') THEN DATE_ADD(pa.current_payment_to_dt, INTERVAL 67+1 day) else null end as end_dt\n",
    "FROM\n",
    "  pa\n",
    "  join `merkle-gldp-client.mdb.policy` pol on pol.policy_no=pa.policy_no and pol.policy_rank=pa.policy_rank\n",
    "  join `merkle-gldp-client.mdb.party` party on party.party_id=pol.policy_holder_party_id \n",
    "  where 1=1\n",
    "  and pa.new_first_policy_flag=1\n",
    "  ) t1\n",
    "  where 1=1\n",
    "  and time_group!='other' and product!='Misc'\n",
    "\n",
    "order by 1,2,3 desc\n",
    "\"\"\""
   ]
  },
  {
   "cell_type": "code",
   "execution_count": 9,
   "id": "dd870a0d-1f4f-4bfa-a206-de85c9dfafd1",
   "metadata": {},
   "outputs": [
    {
     "name": "stdout",
     "output_type": "stream",
     "text": [
      "CPU times: user 3min 11s, sys: 11.7 s, total: 3min 23s\n",
      "Wall time: 11min 33s\n"
     ]
    }
   ],
   "source": [
    "%%time\n",
    "df = client_bq.query(q1).to_dataframe()"
   ]
  },
  {
   "cell_type": "code",
   "execution_count": 10,
   "id": "a4110956-ecc3-4103-9f83-ca4c384a6d2a",
   "metadata": {},
   "outputs": [
    {
     "name": "stdout",
     "output_type": "stream",
     "text": [
      "(4757899, 12)\n"
     ]
    }
   ],
   "source": [
    "print(df.shape)"
   ]
  },
  {
   "cell_type": "code",
   "execution_count": 11,
   "id": "f769bc1d-9d2f-4b57-9a0d-b1d4523f205b",
   "metadata": {},
   "outputs": [],
   "source": [
    "final_df=pd.DataFrame(columns=df.columns)\n",
    "product=df['product'].unique()\n",
    "time=df['time_group'].unique()\n",
    "bill_m=df['billing_method_indicator'].unique()\n",
    "canceled=df['Requested_to_cancel'].unique()\n",
    "\n",
    "# bucket for testing\n",
    "bucket = 'gs://merkle-gldp-sandbox/Maksim/'\n",
    "\n",
    "# bucket for file delviery \n",
    "# It's still not clear what folder to use\n",
    "# bucket = 'gs://merkle-gldp-client/outbound/landing/'\n",
    "today=date.today().strftime(\"%Y%m%d\")"
   ]
  },
  {
   "cell_type": "code",
   "execution_count": 12,
   "id": "f41b04f4-e71b-4c36-8ed7-3943140ce3d6",
   "metadata": {},
   "outputs": [
    {
     "name": "stdout",
     "output_type": "stream",
     "text": [
      "file test_test_file_name_data_20230223.csv has been exported\n"
     ]
    }
   ],
   "source": [
    "sample_size=50 # initially we were asked to output 50 records per segment\n",
    "\n",
    "for pr in product:\n",
    "    for t in time:\n",
    "        for bill in bill_m:\n",
    "            for c in canceled:\n",
    "                final_df=final_df.append(df[(df['product']==pr)&(df['time_group']==t)&(df['billing_method_indicator']==bill)\\\n",
    "                                        &(df['Requested_to_cancel']==c)].sample(frac=1).head(sample_size)) \n",
    "\n",
    "filename='{}_{}_data_{}.csv'.format('test','test_file_name',today) # to be update based on the provided filename\n",
    "final_df.to_csv(bucket+filename, index=False)\n",
    "print('file {} has been exported'.format(filename))\n",
    "            # print(sample.shape)\n",
    "            # print('selection {}, unique values in product {}'.format(pr,sample['product'].unique()))\n",
    "            # print('selection {}, unique values in product {}'.format(t,sample['time_group'].unique()))\n",
    "            # print('selection {}, unique values in product {}'.format(bill,sample['billing_method_indicator'].unique()))"
   ]
  },
  {
   "cell_type": "code",
   "execution_count": 16,
   "id": "0dee134c-301f-4824-b9b9-d22ea49fcaea",
   "metadata": {},
   "outputs": [
    {
     "data": {
      "text/plain": [
       "(3265, 11)"
      ]
     },
     "execution_count": 16,
     "metadata": {},
     "output_type": "execute_result"
    }
   ],
   "source": [
    "final_df.shape"
   ]
  }
 ],
 "metadata": {
  "environment": {
   "kernel": "python3",
   "name": "common-cpu.m103",
   "type": "gcloud",
   "uri": "gcr.io/deeplearning-platform-release/base-cpu:m103"
  },
  "kernelspec": {
   "display_name": "Python 3",
   "language": "python",
   "name": "python3"
  },
  "language_info": {
   "codemirror_mode": {
    "name": "ipython",
    "version": 3
   },
   "file_extension": ".py",
   "mimetype": "text/x-python",
   "name": "python",
   "nbconvert_exporter": "python",
   "pygments_lexer": "ipython3",
   "version": "3.7.12"
  }
 },
 "nbformat": 4,
 "nbformat_minor": 5
}
